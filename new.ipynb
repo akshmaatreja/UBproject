{
 "cells": [
  {
   "cell_type": "code",
   "execution_count": 2,
   "metadata": {},
   "outputs": [],
   "source": [
    "import pandas as pd\n",
    "import numpy as np\n",
    "from sklearn.model_selection import train_test_split\n",
    "from sklearn.preprocessing import StandardScaler, LabelEncoder\n",
    "from sklearn.impute import SimpleImputer\n",
    "from imblearn.over_sampling import SMOTE\n",
    "from sklearn.pipeline import Pipeline\n",
    "from sklearn.compose import ColumnTransformer\n",
    "from sklearn.ensemble import RandomForestClassifier\n"
   ]
  },
  {
   "cell_type": "code",
   "execution_count": 3,
   "metadata": {},
   "outputs": [],
   "source": [
    "df = pd.read_csv('development_sample.csv')"
   ]
  },
  {
   "cell_type": "code",
   "execution_count": 23,
   "metadata": {},
   "outputs": [
    {
     "name": "stdout",
     "output_type": "stream",
     "text": [
      "Collecting ace_tools\n",
      "  Downloading ace_tools-0.0-py3-none-any.whl.metadata (300 bytes)\n",
      "Downloading ace_tools-0.0-py3-none-any.whl (1.1 kB)\n",
      "Installing collected packages: ace_tools\n",
      "Successfully installed ace_tools-0.0\n",
      "Note: you may need to restart the kernel to use updated packages.\n"
     ]
    }
   ],
   "source": [
    "%pip install ace_tools"
   ]
  },
  {
   "cell_type": "code",
   "execution_count": 20,
   "metadata": {},
   "outputs": [],
   "source": [
    "# Reload the uploaded files\n",
    "dev_sample = pd.read_csv('development_sample.csv')\n",
    "test_sample = pd.read_csv('testing_sample.csv')\n",
    "var_description = pd.read_excel('Variables_description.xlsx')\n",
    "\n",
    "# Make copies to work on\n",
    "dev_df = dev_sample.copy()\n",
    "test_df = test_sample.copy()\n",
    "\n",
    "# Convert application_date to datetime\n",
    "dev_df['application_date'] = pd.to_datetime(dev_df['application_date'], errors='coerce')\n",
    "test_df['application_date'] = pd.to_datetime(test_df['application_date'], errors='coerce')\n",
    "\n",
    "# Drop rows with null target (only in development data, as it's our training set)\n",
    "dev_df = dev_df[~dev_df['target'].isnull()]\n",
    "\n",
    "# Identify categorical columns\n",
    "categorical_cols = ['Application_status', 'Var3', 'Var13']\n",
    "for col in categorical_cols:\n",
    "    dev_df[col] = dev_df[col].astype('category')\n",
    "    test_df[col] = test_df[col].astype('category')"
   ]
  },
  {
   "cell_type": "code",
   "execution_count": 21,
   "metadata": {},
   "outputs": [],
   "source": [
    "# Extract date features\n",
    "for df in [dev_df, test_df]:\n",
    "    df['application_year'] = df['application_date'].dt.year\n",
    "    df['application_month'] = df['application_date'].dt.month\n",
    "    df['application_dayofweek'] = df['application_date'].dt.dayofweek\n",
    "\n",
    "# Drop non-predictive identifiers\n",
    "drop_cols = ['ID', 'customer_id', 'application_date']\n",
    "dev_df = dev_df.drop(columns=drop_cols)\n",
    "test_df = test_df.drop(columns=drop_cols)\n",
    "\n",
    "# Summarize missing values\n",
    "missing_summary = dev_df.isnull().sum().sort_values(ascending=False)\n",
    "missing_summary = missing_summary[missing_summary > 0]"
   ]
  },
  {
   "cell_type": "code",
   "execution_count": 26,
   "metadata": {},
   "outputs": [
    {
     "name": "stdout",
     "output_type": "stream",
     "text": [
      "Development data shape: (36718, 35)\n",
      "Test data shape: (5000, 35)\n",
      "Columns in development data: ['target', 'Application_status', 'Var1', 'Var2', 'Var3', 'Var4', 'Var5', 'Var6', 'Var7', 'Var8', 'Var9', 'Var10', 'Var11', 'Var12', 'Var13', 'Var14', 'Var15', 'Var16', 'Var17', 'Var18', 'Var19', 'Var20', 'Var21', 'Var22', 'Var23', 'Var24', 'Var25', 'Var26', 'Var27', 'Var28', 'Var29', 'Var30', 'application_year', 'application_month', 'application_dayofweek']\n",
      "   target Application_status  Var1  Var2 Var3   Var4  Var5  Var6     Var7  \\\n",
      "0     0.0           Approved     1   2.0    1   7800    99     1   108.73   \n",
      "1     0.0           Approved     1   1.0    2  11100    78     1   195.99   \n",
      "2     0.0           Approved     2   3.0    1   2400    15     1   248.34   \n",
      "3     0.0           Approved     3   1.0    2  11800    30     6  3538.68   \n",
      "5     0.0           Approved     1   2.0    1   7200    36     1   267.19   \n",
      "\n",
      "      Var8  ...  Var24    Var25     Var26  Var27 Var28  Var29  Var30  \\\n",
      "0      NaN  ...      0  6768.42      0.00      0     0      0   3899   \n",
      "1  11200.0  ...  15000  5937.66   3870.60      0     0      0   3899   \n",
      "2      NaN  ...      0  5647.77   1463.08      0     0     10   3899   \n",
      "3  12400.0  ...      0  3594.90  21563.78      0     0     10   3899   \n",
      "5      NaN  ...      0  1828.62       NaN      0     0     10   3899   \n",
      "\n",
      "   application_year  application_month  application_dayofweek  \n",
      "0              2010                  2                      0  \n",
      "1              2010                  2                      0  \n",
      "2              2010                  2                      0  \n",
      "3              2010                  2                      0  \n",
      "5              2010                  2                      1  \n",
      "\n",
      "[5 rows x 35 columns]\n",
      "Target distribution:\n",
      "target\n",
      "0.0    35591\n",
      "1.0     1127\n",
      "Name: count, dtype: int64\n"
     ]
    }
   ],
   "source": [
    "# Quick look at shapes\n",
    "print(f\"Development data shape: {dev_df.shape}\")\n",
    "print(f\"Test data shape: {test_df.shape}\")\n",
    "\n",
    "# Check column names\n",
    "print(\"Columns in development data:\", dev_df.columns.tolist())\n",
    "\n",
    "# Check first few rows\n",
    "print(dev_df.head())\n",
    "\n",
    "# Check target balance\n",
    "print(\"Target distribution:\")\n",
    "print(dev_df['target'].value_counts(dropna=False))"
   ]
  },
  {
   "cell_type": "code",
   "execution_count": null,
   "metadata": {},
   "outputs": [],
   "source": []
  },
  {
   "cell_type": "code",
   "execution_count": null,
   "metadata": {},
   "outputs": [],
   "source": []
  },
  {
   "cell_type": "code",
   "execution_count": 31,
   "metadata": {},
   "outputs": [
    {
     "name": "stdout",
     "output_type": "stream",
     "text": [
      "Development data shape: (50000, 35)\n",
      "Test data shape: (5000, 35)\n",
      "Columns in development data: ['ID', 'customer_id', 'application_date', 'target', 'Application_status', 'Var1', 'Var2', 'Var3', 'Var4', 'Var5', 'Var6', 'Var7', 'Var8', 'Var9', 'Var10', 'Var11', 'Var12', 'Var13', 'Var14', 'Var15', 'Var16', 'Var17', 'Var18', 'Var19', 'Var20', 'Var21', 'Var22', 'Var23', 'Var24', 'Var25', 'Var26', 'Var27', 'Var28', 'Var29', 'Var30']\n",
      "         ID  customer_id   application_date  target Application_status  Var1  \\\n",
      "0  11034977     32537148  01Feb2010 0:00:00     0.0           Approved     1   \n",
      "1  11034978     32761663  01Feb2010 0:00:00     0.0           Approved     1   \n",
      "2  11034979     32701063  01Feb2010 0:00:00     0.0           Approved     2   \n",
      "3  11034980     32386786  01Feb2010 0:00:00     0.0           Approved     3   \n",
      "4  11034981     32692110  02Feb2010 0:00:00     NaN           Rejected     1   \n",
      "\n",
      "   Var2 Var3   Var4  Var5  ...  Var21  Var22  Var23  Var24    Var25     Var26  \\\n",
      "0   2.0    1   7800    99  ...      1      1      1      0  6768.42      0.00   \n",
      "1   1.0    2  11100    78  ...      0      0      0  15000  5937.66   3870.60   \n",
      "2   3.0    1   2400    15  ...      2      2      2      0  5647.77   1463.08   \n",
      "3   1.0    2  11800    30  ...      0      0      0      0  3594.90  21563.78   \n",
      "4   2.0    1  10200    72  ...      0      2      2      0  9908.45      0.00   \n",
      "\n",
      "   Var27 Var28  Var29  Var30  \n",
      "0      0     0      0   3899  \n",
      "1      0     0      0   3899  \n",
      "2      0     0     10   3899  \n",
      "3      0     0     10   3899  \n",
      "4      0     0     20   3899  \n",
      "\n",
      "[5 rows x 35 columns]\n",
      "Target distribution:\n",
      "target\n",
      "0.0    35591\n",
      "NaN    13282\n",
      "1.0     1127\n",
      "Name: count, dtype: int64\n"
     ]
    }
   ],
   "source": [
    "import pandas as pd\n",
    "\n",
    "# Load datasets\n",
    "dev_df = pd.read_csv('development_sample.csv')\n",
    "test_df = pd.read_csv('testing_sample.csv')\n",
    "var_desc = pd.read_excel('Variables_description.xlsx')\n",
    "\n",
    "# Quick look at shapes\n",
    "print(f\"Development data shape: {dev_df.shape}\")\n",
    "print(f\"Test data shape: {test_df.shape}\")\n",
    "\n",
    "# Check column names\n",
    "print(\"Columns in development data:\", dev_df.columns.tolist())\n",
    "\n",
    "# Check first few rows\n",
    "print(dev_df.head())\n",
    "\n",
    "# Check target balance\n",
    "print(\"Target distribution:\")\n",
    "print(dev_df['target'].value_counts(dropna=False))\n"
   ]
  },
  {
   "cell_type": "code",
   "execution_count": null,
   "metadata": {},
   "outputs": [],
   "source": []
  },
  {
   "cell_type": "code",
   "execution_count": null,
   "metadata": {},
   "outputs": [],
   "source": []
  },
  {
   "cell_type": "code",
   "execution_count": null,
   "metadata": {},
   "outputs": [],
   "source": []
  },
  {
   "cell_type": "code",
   "execution_count": null,
   "metadata": {},
   "outputs": [],
   "source": []
  },
  {
   "cell_type": "code",
   "execution_count": null,
   "metadata": {},
   "outputs": [],
   "source": []
  },
  {
   "cell_type": "code",
   "execution_count": null,
   "metadata": {},
   "outputs": [],
   "source": []
  },
  {
   "cell_type": "code",
   "execution_count": null,
   "metadata": {},
   "outputs": [],
   "source": []
  },
  {
   "cell_type": "code",
   "execution_count": null,
   "metadata": {},
   "outputs": [],
   "source": []
  },
  {
   "cell_type": "code",
   "execution_count": null,
   "metadata": {},
   "outputs": [],
   "source": []
  },
  {
   "cell_type": "code",
   "execution_count": null,
   "metadata": {},
   "outputs": [],
   "source": []
  },
  {
   "cell_type": "code",
   "execution_count": null,
   "metadata": {},
   "outputs": [],
   "source": []
  },
  {
   "cell_type": "code",
   "execution_count": null,
   "metadata": {},
   "outputs": [],
   "source": []
  },
  {
   "cell_type": "code",
   "execution_count": null,
   "metadata": {},
   "outputs": [],
   "source": []
  },
  {
   "cell_type": "code",
   "execution_count": null,
   "metadata": {},
   "outputs": [],
   "source": []
  },
  {
   "cell_type": "code",
   "execution_count": null,
   "metadata": {},
   "outputs": [],
   "source": []
  },
  {
   "cell_type": "code",
   "execution_count": null,
   "metadata": {},
   "outputs": [],
   "source": []
  },
  {
   "cell_type": "code",
   "execution_count": null,
   "metadata": {},
   "outputs": [],
   "source": []
  },
  {
   "cell_type": "code",
   "execution_count": null,
   "metadata": {},
   "outputs": [],
   "source": []
  },
  {
   "cell_type": "markdown",
   "metadata": {},
   "source": []
  },
  {
   "cell_type": "code",
   "execution_count": null,
   "metadata": {},
   "outputs": [],
   "source": []
  },
  {
   "cell_type": "code",
   "execution_count": null,
   "metadata": {},
   "outputs": [],
   "source": []
  },
  {
   "cell_type": "code",
   "execution_count": null,
   "metadata": {},
   "outputs": [],
   "source": []
  },
  {
   "cell_type": "code",
   "execution_count": null,
   "metadata": {},
   "outputs": [],
   "source": []
  },
  {
   "cell_type": "code",
   "execution_count": null,
   "metadata": {},
   "outputs": [],
   "source": []
  },
  {
   "cell_type": "code",
   "execution_count": null,
   "metadata": {},
   "outputs": [],
   "source": []
  },
  {
   "cell_type": "code",
   "execution_count": null,
   "metadata": {},
   "outputs": [],
   "source": []
  },
  {
   "cell_type": "code",
   "execution_count": null,
   "metadata": {},
   "outputs": [],
   "source": []
  }
 ],
 "metadata": {
  "kernelspec": {
   "display_name": ".venv",
   "language": "python",
   "name": "python3"
  },
  "language_info": {
   "codemirror_mode": {
    "name": "ipython",
    "version": 3
   },
   "file_extension": ".py",
   "mimetype": "text/x-python",
   "name": "python",
   "nbconvert_exporter": "python",
   "pygments_lexer": "ipython3",
   "version": "3.13.2"
  }
 },
 "nbformat": 4,
 "nbformat_minor": 2
}
